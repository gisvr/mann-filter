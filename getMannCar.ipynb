{
 "cells": [
  {
   "cell_type": "code",
   "execution_count": 161,
   "metadata": {
    "collapsed": true
   },
   "outputs": [],
   "source": [
    "import sys  \n",
    "reload(sys)  \n",
    "sys.setdefaultencoding('utf8')\n",
    "import requests\n",
    "from bs4 import BeautifulSoup"
   ]
  },
  {
   "cell_type": "code",
   "execution_count": 162,
   "metadata": {
    "collapsed": true
   },
   "outputs": [],
   "source": [
    "url='https://catalog.mann-filter.cn/CN/chi/vehicle/MANN-FILTER%20Katalog%20China'\n",
    "# 请求腾讯新闻的URL，获取其text文本\n",
    "wbdata = requests.get(url).text\n",
    "# 对获取到的文本进行解析"
   ]
  },
  {
   "cell_type": "code",
   "execution_count": 163,
   "metadata": {
    "collapsed": true
   },
   "outputs": [],
   "source": [
    "soup = BeautifulSoup(wbdata, \"lxml\")"
   ]
  },
  {
   "cell_type": "code",
   "execution_count": 187,
   "metadata": {},
   "outputs": [],
   "source": [
    "for hersteller in soup.find(id=\"dropdownsHerstellerSelectItems\").select(\".rf-sel-opt\"):\n",
    "    \n",
    "    herstellerName = hersteller.text.replace('/','~');\n",
    "    url_her = url+'/%E8%BD%A6%E8%BE%86/%E4%B9%98%E7%94%A8%E8%BD%A6+%E8%BD%BB%E5%9E%8B%E8%B4%A7%E8%BD%A6/'+herstellerName\n",
    "    # print url_her\n",
    "\n",
    "    f=open(herstellerName+'.txt','a') \n",
    "    # f.write(url_her+'/n')\n",
    "    _wbdata1 = requests.get(url_her).text \n",
    "    _soup1 = BeautifulSoup(_wbdata1, \"lxml\")\n",
    "    for _model in _soup1.find(id=\"dropdownsModellreihe_SelectItems\").select('.rf-sel-opt'): \n",
    "        f.write('\\n'+'品牌:'+_model.text +'\\n')\n",
    "        _model_year = _model.text.replace('/','~')\n",
    "        _model_text = _model_year.split('|')[0];\n",
    "        _url_model = url_her+'/'+_model_text\n",
    "    #     print (_url_model)\n",
    "\n",
    "        model_html = requests.get(_url_model).text \n",
    "        model_soup = BeautifulSoup(model_html, \"lxml\")\n",
    "        #(\".tableContent\"):.strip().replace('\\n','|') + '\\n')\n",
    "        for _table in model_soup.select(\".clickable_frame\"):\n",
    "            if _table.text.strip() :\n",
    "                f.write(\"  车型：\" + ' '.join(_table.text.split())+'\\n') \n",
    "                type_url = 'https://catalog.mann-filter.cn'+_table.a['href']\n",
    "                print type_url\n",
    "                type_html  = requests.get(type_url).text \n",
    "                type_soup = BeautifulSoup(type_html, \"lxml\")\n",
    "                for _carType in type_soup.select('.partsText'): \n",
    "                    if _carType.text.strip() :\n",
    "                     f.write(\"     滤芯：\" + ' '.join(_carType.text.split())+'\\n') \n",
    "                     print _carType.text.strip()+'----'\n",
    "            \n",
    "f.close()\n",
    "# print(_soup1.prettify())"
   ]
  },
  {
   "cell_type": "code",
   "execution_count": null,
   "metadata": {
    "collapsed": true
   },
   "outputs": [],
   "source": []
  }
 ],
 "metadata": {
  "kernelspec": {
   "display_name": "Python 2",
   "language": "python",
   "name": "python2"
  },
  "language_info": {
   "codemirror_mode": {
    "name": "ipython",
    "version": 2
   },
   "file_extension": ".py",
   "mimetype": "text/x-python",
   "name": "python",
   "nbconvert_exporter": "python",
   "pygments_lexer": "ipython2",
   "version": "2.7.13"
  }
 },
 "nbformat": 4,
 "nbformat_minor": 2
}
