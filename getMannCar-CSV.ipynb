{
 "cells": [
  {
   "cell_type": "code",
   "execution_count": 1,
   "metadata": {
    "collapsed": true
   },
   "outputs": [],
   "source": [
    "# coding:utf-8\n",
    "import sys  \n",
    "reload(sys)\n",
    "#解决编码问题\n",
    "sys.setdefaultencoding('utf8')\n",
    "import requests\n",
    "from bs4 import BeautifulSoup"
   ]
  },
  {
   "cell_type": "code",
   "execution_count": 2,
   "metadata": {
    "collapsed": true
   },
   "outputs": [],
   "source": [
    "url='https://catalog.mann-filter.cn/CN/chi/vehicle/MANN-FILTER Katalog China'\n",
    "# 请求腾讯新闻的URL，获取其text文本\n",
    "mannData = requests.get(url).text\n",
    "# 对获取到的文本进行解析"
   ]
  },
  {
   "cell_type": "code",
   "execution_count": null,
   "metadata": {},
   "outputs": [],
   "source": [
    "soup = BeautifulSoup(mannData, \"lxml\") \n",
    "for hersteller in soup.find(id=\"dropdownsHerstellerSelectItems\").select(\".rf-sel-opt\"):\n",
    "    herstellerName = hersteller.text.replace('/','~'); \n",
    "    csvFile = open('./data/'+herstellerName+\".csv\", \"w\")\n",
    "    csvFile.write('生产商,车系,车型,发动机型号,千瓦,马力,制造年份,空气滤清器,机油滤清器,燃油滤清器,空调滤清器,其它滤清器 \\n')\n",
    "\n",
    "    url_her = url+'/车辆/乘用车+轻型货车/'+herstellerName\n",
    "    herstellerHtml = requests.get(url_her).text \n",
    "    herstellerSoup = BeautifulSoup(herstellerHtml, \"lxml\")\n",
    "\n",
    "    for modelItem in herstellerSoup.find(id=\"dropdownsModellreihe_SelectItems\").select('.rf-sel-opt'):\n",
    "        print('生产商'+ herstellerName +' 车系:' + modelItem.getText())\n",
    "        modelText = modelItem.getText().replace('/','~').split('|')[0];\n",
    "        url_model = url_her+'/'+modelText\n",
    "    #     print url_model\n",
    "\n",
    "        # 车辆型号\n",
    "        model_html = requests.get(url_model).text \n",
    "        model_soup = BeautifulSoup(model_html, \"lxml\")\n",
    "        #(\".tableContent\"):.strip().replace('\\n','|') + '\\n')\n",
    "        for modelItem in model_soup.select(\".clickable_frame\"):\n",
    "    #         print \"  车型：\" + ' '.join(modelItem.text.split())\n",
    "\n",
    "            if modelItem.text.strip() :\n",
    "                #f.write(\"  车型：\" + ' '.join(_table.text.split())+'\\n') \n",
    "                type_url = 'https://catalog.mann-filter.cn'+modelItem.a['href']\n",
    "\n",
    "                index=0\n",
    "                modelDetil=''\n",
    "                for modelInfo in modelItem.select(\".tableContent\"):\n",
    "                   modelInfoText = ' '.join(modelInfo.text.split())\n",
    "                   modelDetil += ','+ modelInfoText\n",
    "    #                if index==0 :\n",
    "    #                     print '车型'+ modelInfoText\n",
    "    #                elif index==1:  \n",
    "    #                     print '发动机型号'+modelInfoText\n",
    "    #                elif index==2:  \n",
    "    #                     print '千瓦'+modelInfoText\n",
    "    #                elif index==3:  \n",
    "    #                     print '马力'+modelInfoText\n",
    "    #                elif index==4:  \n",
    "    #                     print '制造年份'+modelInfoText\n",
    "    #                else:\n",
    "    #                     print '---'\n",
    "    #                index+=1\n",
    "                filter_url = 'https://catalog.mann-filter.cn'+modelItem.a['href']\n",
    "               # print type_url\n",
    "                filter_html  = requests.get(filter_url).text \n",
    "                filter_soup = BeautifulSoup(filter_html, \"lxml\")\n",
    "                filterDetil=''\n",
    "                for filterItem in filter_soup.select('.partsText'): \n",
    "                    for filterInfo in filterItem.find_all('a'): \n",
    "    #                 for filterInfo in filterItem.find_all(\"div\", attrs={\"class\": \"partsInlineText partsText\"}): \n",
    "                       filterDetil += ','+ ' '.join(filterInfo.text.split())\n",
    "                print  herstellerName+','+modelText+modelDetil+filterDetil\n",
    "                csvFile.write(herstellerName+','+modelText+modelDetil+filterDetil+'\\n')\n",
    "\n",
    "    csvFile.close()\n",
    "\n",
    "# print(_soup1.prettify())"
   ]
  }
 ],
 "metadata": {
  "kernelspec": {
   "display_name": "Python 2",
   "language": "python",
   "name": "python2"
  },
  "language_info": {
   "codemirror_mode": {
    "name": "ipython",
    "version": 2
   },
   "file_extension": ".py",
   "mimetype": "text/x-python",
   "name": "python",
   "nbconvert_exporter": "python",
   "pygments_lexer": "ipython2",
   "version": "2.7.13"
  }
 },
 "nbformat": 4,
 "nbformat_minor": 2
}
