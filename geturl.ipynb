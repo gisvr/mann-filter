{
 "cells": [
  {
   "cell_type": "code",
   "execution_count": 9,
   "metadata": {
    "collapsed": true
   },
   "outputs": [],
   "source": [
    "import re\n",
    "import pandas as pd\n",
    "import requests\n",
    "import json\n",
    "import urllib3\n",
    "import html.parser as h"
   ]
  },
  {
   "cell_type": "code",
   "execution_count": 7,
   "metadata": {
    "collapsed": true
   },
   "outputs": [],
   "source": [
    "urllib3.disable_warnings()"
   ]
  },
  {
   "cell_type": "code",
   "execution_count": 8,
   "metadata": {
    "collapsed": true
   },
   "outputs": [],
   "source": [
    "'''\n",
    "下载所有的车次数据 | 保存为 tnumber_datas.txt 文件  \n",
    "''' \n",
    " \n",
    "def download_tnumber_datas(tn_datas_url):  \n",
    "    requests.adapters.DEFAULT_RETRIES = 5  \n",
    "    response = requests.get(tn_datas_url, stream=True,verify=False)  \n",
    "    status = response.status_code  \n",
    "    if status == 200:  \n",
    "        with open('tnumber_datas.txt', 'wb') as tfile:  \n",
    "            for chunk in response.iter_content(chunk_size=102400): # 成块读取数据\n",
    "                if chunk:  \n",
    "                    tfile.write(chunk)  \n",
    "\n",
    "tn_datas_url='https://catalog.mann-filter.cn/CN/chi/vehicle/MANN-FILTER%20Katalog%20China'\n",
    "download_tnumber_datas(tn_datas_url);"
   ]
  },
  {
   "cell_type": "code",
   "execution_count": null,
   "metadata": {
    "collapsed": true
   },
   "outputs": [],
   "source": []
  }
 ],
 "metadata": {
  "kernelspec": {
   "display_name": "Python3.5.1",
   "language": "python",
   "name": "python3"
  },
  "language_info": {
   "codemirror_mode": {
    "name": "ipython",
    "version": 3
   },
   "file_extension": ".py",
   "mimetype": "text/x-python",
   "name": "python",
   "nbconvert_exporter": "python",
   "pygments_lexer": "ipython3",
   "version": "3.5.1"
  }
 },
 "nbformat": 4,
 "nbformat_minor": 2
}
